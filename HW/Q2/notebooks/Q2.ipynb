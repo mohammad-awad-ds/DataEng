{
 "cells": [
  {
   "cell_type": "code",
   "execution_count": 2,
   "id": "b37e577d-b8e9-4660-b5da-22a3d9e02dfd",
   "metadata": {},
   "outputs": [
    {
     "name": "stdout",
     "output_type": "stream",
     "text": [
      "Collecting pandas\n",
      "  Using cached pandas-1.4.2-cp39-cp39-manylinux_2_17_x86_64.manylinux2014_x86_64.whl (11.7 MB)\n",
      "Collecting numpy\n",
      "  Using cached numpy-1.22.4-cp39-cp39-manylinux_2_17_x86_64.manylinux2014_x86_64.whl (16.8 MB)\n",
      "Collecting faker\n",
      "  Using cached Faker-13.12.0-py3-none-any.whl (1.6 MB)\n",
      "Requirement already satisfied: sqlalchemy in /opt/conda/lib/python3.9/site-packages (1.4.36)\n",
      "Collecting psycopg2-binary\n",
      "  Using cached psycopg2_binary-2.9.3-cp39-cp39-manylinux_2_17_x86_64.manylinux2014_x86_64.whl (3.0 MB)\n",
      "Collecting pymongo\n",
      "  Using cached pymongo-4.1.1-cp39-cp39-manylinux_2_17_x86_64.manylinux2014_x86_64.whl (471 kB)\n",
      "Requirement already satisfied: pytz>=2020.1 in /opt/conda/lib/python3.9/site-packages (from pandas) (2022.1)\n",
      "Requirement already satisfied: python-dateutil>=2.8.1 in /opt/conda/lib/python3.9/site-packages (from pandas) (2.8.2)\n",
      "Requirement already satisfied: greenlet!=0.4.17 in /opt/conda/lib/python3.9/site-packages (from sqlalchemy) (1.1.2)\n",
      "Requirement already satisfied: six>=1.5 in /opt/conda/lib/python3.9/site-packages (from python-dateutil>=2.8.1->pandas) (1.16.0)\n",
      "Installing collected packages: pymongo, psycopg2-binary, numpy, pandas, faker\n",
      "Successfully installed faker-13.12.0 numpy-1.22.4 pandas-1.4.2 psycopg2-binary-2.9.3 pymongo-4.1.1\n"
     ]
    }
   ],
   "source": [
    "try:\n",
    "    import pandas as pd\n",
    "    import numpy as np\n",
    "    from faker import Faker\n",
    "    import csv\n",
    "    from sqlalchemy import create_engine\n",
    "    import psycopg2\n",
    "    from pymongo import MongoClient\n",
    "except:\n",
    "    !pip install pandas numpy faker sqlalchemy psycopg2-binary pymongo\n",
    "    import pandas as pd\n",
    "    import numpy as np\n",
    "    from faker import Faker\n",
    "    import csv\n",
    "    from sqlalchemy import create_engine\n",
    "    import psycopg2\n",
    "    from pymongo import MongoClient"
   ]
  },
  {
   "cell_type": "markdown",
   "id": "e4510f68-082d-4bed-a429-5ec8f0d350ff",
   "metadata": {},
   "source": [
    "### Create the CSV data and import to the database as pre-requisite"
   ]
  },
  {
   "cell_type": "code",
   "execution_count": 3,
   "id": "e50a4e29-b7a2-4262-a556-57e8653eafbe",
   "metadata": {},
   "outputs": [],
   "source": [
    "from faker import Faker\n",
    "import csv\n",
    "output=open('data.csv','w')\n",
    "fake=Faker()\n",
    "header=['name','age','street','city','state','zip','lng','lat']\n",
    "mywriter=csv.writer(output)\n",
    "mywriter.writerow(header)\n",
    "for r in range(1000):\n",
    "    row =[fake.name(),fake.random_int(min=18,max=80, step=1), \n",
    "                       fake.street_address(), fake.city(),fake.state(),\n",
    "                       fake.zipcode(),fake.longitude(),fake.latitude()]\n",
    "    #print(row)\n",
    "    mywriter.writerow(row)\n",
    "\n",
    "output.close()"
   ]
  },
  {
   "cell_type": "markdown",
   "id": "0ff8a0e0-1b27-470c-a918-1e8f3d327b97",
   "metadata": {},
   "source": [
    "### Create the connection to the database"
   ]
  },
  {
   "cell_type": "markdown",
   "id": "e163658d-938f-4358-be5f-86c94c9f6526",
   "metadata": {},
   "source": [
    "Due to a bug in the libpq packages for Mac M1 laptops, a workaround is to run the containers with rosetta or on intel based Linux machine\n",
    "ref link: https://stackoverflow.com/questions/62807717/how-can-i-solve-postgresql-scram-authentifcation-problem"
   ]
  },
  {
   "cell_type": "code",
   "execution_count": 4,
   "id": "6cc2e0de-907d-4047-a91a-8fb53c9fd28d",
   "metadata": {},
   "outputs": [
    {
     "name": "stdout",
     "output_type": "stream",
     "text": [
      "[]\n"
     ]
    },
    {
     "name": "stderr",
     "output_type": "stream",
     "text": [
      "/tmp/ipykernel_320/1324543537.py:8: SADeprecationWarning: The Engine.table_names() method is deprecated and will be removed in a future release.  Please refer to Inspector.get_table_names(). (deprecated since: 1.4)\n",
      "  print(engine.table_names())\n"
     ]
    }
   ],
   "source": [
    "host='ibrahim_postgres'\n",
    "username='postgres'\n",
    "password='password123'\n",
    "database='deproject'\n",
    "port='5432'\n",
    "\n",
    "engine = create_engine(f'postgresql://{username}:{password}@{host}:{port}/{database}')\n",
    "print(engine.table_names())"
   ]
  },
  {
   "cell_type": "markdown",
   "id": "05746d77-b3c0-4e28-b19e-62b8a8839a57",
   "metadata": {},
   "source": [
    "### Send the csv data to the postgres database"
   ]
  },
  {
   "cell_type": "code",
   "execution_count": 5,
   "id": "d50f55f6-7c27-4fed-88e9-0a078b7591c1",
   "metadata": {},
   "outputs": [
    {
     "data": {
      "text/html": [
       "<div>\n",
       "<style scoped>\n",
       "    .dataframe tbody tr th:only-of-type {\n",
       "        vertical-align: middle;\n",
       "    }\n",
       "\n",
       "    .dataframe tbody tr th {\n",
       "        vertical-align: top;\n",
       "    }\n",
       "\n",
       "    .dataframe thead th {\n",
       "        text-align: right;\n",
       "    }\n",
       "</style>\n",
       "<table border=\"1\" class=\"dataframe\">\n",
       "  <thead>\n",
       "    <tr style=\"text-align: right;\">\n",
       "      <th></th>\n",
       "      <th>name</th>\n",
       "      <th>age</th>\n",
       "      <th>street</th>\n",
       "      <th>city</th>\n",
       "      <th>state</th>\n",
       "      <th>zip</th>\n",
       "      <th>lng</th>\n",
       "      <th>lat</th>\n",
       "    </tr>\n",
       "  </thead>\n",
       "  <tbody>\n",
       "    <tr>\n",
       "      <th>0</th>\n",
       "      <td>Rebecca Williams</td>\n",
       "      <td>33</td>\n",
       "      <td>5401 White Plaza Suite 415</td>\n",
       "      <td>East Ambertown</td>\n",
       "      <td>Indiana</td>\n",
       "      <td>91940</td>\n",
       "      <td>151.916927</td>\n",
       "      <td>25.865012</td>\n",
       "    </tr>\n",
       "    <tr>\n",
       "      <th>1</th>\n",
       "      <td>Jennifer Everett</td>\n",
       "      <td>25</td>\n",
       "      <td>583 Stuart Road Suite 833</td>\n",
       "      <td>Ballardmouth</td>\n",
       "      <td>New York</td>\n",
       "      <td>95720</td>\n",
       "      <td>32.021531</td>\n",
       "      <td>-80.857481</td>\n",
       "    </tr>\n",
       "    <tr>\n",
       "      <th>2</th>\n",
       "      <td>Destiny Butler</td>\n",
       "      <td>57</td>\n",
       "      <td>03677 Danielle Point</td>\n",
       "      <td>Kevintown</td>\n",
       "      <td>Utah</td>\n",
       "      <td>79672</td>\n",
       "      <td>164.736352</td>\n",
       "      <td>32.806609</td>\n",
       "    </tr>\n",
       "    <tr>\n",
       "      <th>3</th>\n",
       "      <td>Sarah Barron</td>\n",
       "      <td>44</td>\n",
       "      <td>622 Thomas Crossing</td>\n",
       "      <td>New Beverlyberg</td>\n",
       "      <td>Rhode Island</td>\n",
       "      <td>49172</td>\n",
       "      <td>-139.152894</td>\n",
       "      <td>-8.860368</td>\n",
       "    </tr>\n",
       "    <tr>\n",
       "      <th>4</th>\n",
       "      <td>Carlos Allen</td>\n",
       "      <td>47</td>\n",
       "      <td>823 Gabriel Brooks</td>\n",
       "      <td>Port Laura</td>\n",
       "      <td>Nebraska</td>\n",
       "      <td>37081</td>\n",
       "      <td>139.062547</td>\n",
       "      <td>82.172667</td>\n",
       "    </tr>\n",
       "  </tbody>\n",
       "</table>\n",
       "</div>"
      ],
      "text/plain": [
       "               name  age                      street             city  \\\n",
       "0  Rebecca Williams   33  5401 White Plaza Suite 415   East Ambertown   \n",
       "1  Jennifer Everett   25   583 Stuart Road Suite 833     Ballardmouth   \n",
       "2    Destiny Butler   57        03677 Danielle Point        Kevintown   \n",
       "3      Sarah Barron   44         622 Thomas Crossing  New Beverlyberg   \n",
       "4      Carlos Allen   47          823 Gabriel Brooks       Port Laura   \n",
       "\n",
       "          state    zip         lng        lat  \n",
       "0       Indiana  91940  151.916927  25.865012  \n",
       "1      New York  95720   32.021531 -80.857481  \n",
       "2          Utah  79672  164.736352  32.806609  \n",
       "3  Rhode Island  49172 -139.152894  -8.860368  \n",
       "4      Nebraska  37081  139.062547  82.172667  "
      ]
     },
     "execution_count": 5,
     "metadata": {},
     "output_type": "execute_result"
    }
   ],
   "source": [
    "df = pd.read_csv('./data.csv')\n",
    "df.head()"
   ]
  },
  {
   "cell_type": "code",
   "execution_count": 6,
   "id": "4b35d405-a7b5-49bb-810a-be95e303cbb7",
   "metadata": {},
   "outputs": [
    {
     "data": {
      "text/plain": [
       "1000"
      ]
     },
     "execution_count": 6,
     "metadata": {},
     "output_type": "execute_result"
    }
   ],
   "source": [
    "df.to_sql('data',engine, if_exists='replace', index=False)"
   ]
  },
  {
   "cell_type": "markdown",
   "id": "927b0189-aa6e-4a46-a2ca-66c488e18ed6",
   "metadata": {},
   "source": [
    "### Retrive Data from postgres as first step in the DAG"
   ]
  },
  {
   "cell_type": "code",
   "execution_count": 6,
   "id": "85720c75-dfe7-4fe8-8131-944137874d42",
   "metadata": {},
   "outputs": [],
   "source": [
    "def PSQL_to_DF():\n",
    "    host='ibrahim_postgres'\n",
    "    username='postgres'\n",
    "    password='password123'\n",
    "    database='deproject'\n",
    "    port='5432'\n",
    "    engine = create_engine(f'postgresql://{username}:{password}@{host}:{port}/{database}')\n",
    "    \n",
    "    df = pd.read_sql('SELECT * FROM data', engine)\n",
    "    \n",
    "    return df.copy()\n",
    "    "
   ]
  },
  {
   "cell_type": "code",
   "execution_count": 7,
   "id": "e90a8afc-8148-441f-a5f2-4fdf368b94bf",
   "metadata": {},
   "outputs": [
    {
     "data": {
      "text/html": [
       "<div>\n",
       "<style scoped>\n",
       "    .dataframe tbody tr th:only-of-type {\n",
       "        vertical-align: middle;\n",
       "    }\n",
       "\n",
       "    .dataframe tbody tr th {\n",
       "        vertical-align: top;\n",
       "    }\n",
       "\n",
       "    .dataframe thead th {\n",
       "        text-align: right;\n",
       "    }\n",
       "</style>\n",
       "<table border=\"1\" class=\"dataframe\">\n",
       "  <thead>\n",
       "    <tr style=\"text-align: right;\">\n",
       "      <th></th>\n",
       "      <th>name</th>\n",
       "      <th>age</th>\n",
       "      <th>street</th>\n",
       "      <th>city</th>\n",
       "      <th>state</th>\n",
       "      <th>zip</th>\n",
       "      <th>lng</th>\n",
       "      <th>lat</th>\n",
       "    </tr>\n",
       "  </thead>\n",
       "  <tbody>\n",
       "    <tr>\n",
       "      <th>0</th>\n",
       "      <td>Colleen Williams</td>\n",
       "      <td>45</td>\n",
       "      <td>92320 Shaun Hill</td>\n",
       "      <td>Lake Mikeport</td>\n",
       "      <td>Nevada</td>\n",
       "      <td>86538</td>\n",
       "      <td>-146.397166</td>\n",
       "      <td>-10.178631</td>\n",
       "    </tr>\n",
       "    <tr>\n",
       "      <th>1</th>\n",
       "      <td>Justin Garrett</td>\n",
       "      <td>65</td>\n",
       "      <td>37772 Kristin Mountain Suite 231</td>\n",
       "      <td>Danielleport</td>\n",
       "      <td>Michigan</td>\n",
       "      <td>10745</td>\n",
       "      <td>-108.015689</td>\n",
       "      <td>-35.436433</td>\n",
       "    </tr>\n",
       "    <tr>\n",
       "      <th>2</th>\n",
       "      <td>Jasmine Williams</td>\n",
       "      <td>52</td>\n",
       "      <td>389 Ramirez Terrace Apt. 351</td>\n",
       "      <td>Port Tiffanyton</td>\n",
       "      <td>Arkansas</td>\n",
       "      <td>5351</td>\n",
       "      <td>122.584334</td>\n",
       "      <td>-59.356266</td>\n",
       "    </tr>\n",
       "    <tr>\n",
       "      <th>3</th>\n",
       "      <td>John Smith</td>\n",
       "      <td>79</td>\n",
       "      <td>55137 Alice Viaduct</td>\n",
       "      <td>Geraldside</td>\n",
       "      <td>Tennessee</td>\n",
       "      <td>7426</td>\n",
       "      <td>-59.858268</td>\n",
       "      <td>62.087841</td>\n",
       "    </tr>\n",
       "    <tr>\n",
       "      <th>4</th>\n",
       "      <td>Jennifer Monroe</td>\n",
       "      <td>35</td>\n",
       "      <td>63078 Silva Knolls Suite 903</td>\n",
       "      <td>Campbellberg</td>\n",
       "      <td>Wyoming</td>\n",
       "      <td>10847</td>\n",
       "      <td>140.823846</td>\n",
       "      <td>60.366340</td>\n",
       "    </tr>\n",
       "  </tbody>\n",
       "</table>\n",
       "</div>"
      ],
      "text/plain": [
       "               name  age                            street             city  \\\n",
       "0  Colleen Williams   45                  92320 Shaun Hill    Lake Mikeport   \n",
       "1    Justin Garrett   65  37772 Kristin Mountain Suite 231     Danielleport   \n",
       "2  Jasmine Williams   52      389 Ramirez Terrace Apt. 351  Port Tiffanyton   \n",
       "3        John Smith   79               55137 Alice Viaduct       Geraldside   \n",
       "4   Jennifer Monroe   35      63078 Silva Knolls Suite 903     Campbellberg   \n",
       "\n",
       "       state    zip         lng        lat  \n",
       "0     Nevada  86538 -146.397166 -10.178631  \n",
       "1   Michigan  10745 -108.015689 -35.436433  \n",
       "2   Arkansas   5351  122.584334 -59.356266  \n",
       "3  Tennessee   7426  -59.858268  62.087841  \n",
       "4    Wyoming  10847  140.823846  60.366340  "
      ]
     },
     "execution_count": 7,
     "metadata": {},
     "output_type": "execute_result"
    }
   ],
   "source": [
    "df = PSQL_to_DF()\n",
    "df.head()"
   ]
  },
  {
   "cell_type": "markdown",
   "id": "a426bb83-51cb-4d71-ac19-a69951c6c981",
   "metadata": {},
   "source": [
    "### Convert DF to json as second task on DAG"
   ]
  },
  {
   "cell_type": "code",
   "execution_count": 16,
   "id": "38f3f80c-54f7-476c-8dbc-2a12562eb17b",
   "metadata": {},
   "outputs": [],
   "source": [
    "def CSV_to_JSON(df):\n",
    "    json_list = df.to_dict(orient='records')\n",
    "    return json_list.copy()"
   ]
  },
  {
   "cell_type": "code",
   "execution_count": 17,
   "id": "3c117b22-f53b-4c19-9466-4b769fd52876",
   "metadata": {},
   "outputs": [],
   "source": [
    "json_list = CSV_to_JSON(df)"
   ]
  },
  {
   "cell_type": "markdown",
   "id": "65245ccb-8a4d-4ac4-99cf-1d0b326ceaae",
   "metadata": {},
   "source": [
    "### Write the converted json list to the Mongo DB as last step"
   ]
  },
  {
   "cell_type": "code",
   "execution_count": 18,
   "id": "f7e9ef55-6b06-4932-8174-c8d43a5dfb0c",
   "metadata": {},
   "outputs": [],
   "source": [
    "def JSON_to_Mongo(data):\n",
    "    client = MongoClient('mongo-db:27017', username='root',password='example')\n",
    "    db = client['de_hw1']\n",
    "    collection = db.jsonData\n",
    "    for i in range(0,len(data)):\n",
    "        try:\n",
    "            result = collection.insert_one(data[i])\n",
    "        except:\n",
    "            print(f'Error for reoord {i}')\n"
   ]
  },
  {
   "cell_type": "code",
   "execution_count": 19,
   "id": "963e1213-89d1-43cc-bf77-a23560e599b9",
   "metadata": {},
   "outputs": [],
   "source": [
    "JSON_to_Mongo(json_list)"
   ]
  },
  {
   "cell_type": "code",
   "execution_count": 22,
   "id": "ea761142-2fba-4511-9120-d66a781402aa",
   "metadata": {},
   "outputs": [
    {
     "name": "stdout",
     "output_type": "stream",
     "text": [
      "{'name': 'Colleen Williams', 'age': 45, 'street': '92320 Shaun Hill', 'city': 'Lake Mikeport', 'state': 'Nevada', 'zip': 86538, 'lng': -146.397166, 'lat': -10.178631, '_id': ObjectId('629109c52ca3cecf4c8679d8')}\n",
      "{'_id': ObjectId('629108d32ca3cecf4c8675ed'), 'name': 'Colleen Williams', 'age': 45, 'street': '92320 Shaun Hill', 'city': 'Lake Mikeport', 'state': 'Nevada', 'zip': 86538, 'lng': -146.397166, 'lat': -10.178631}\n",
      "{'_id': ObjectId('629108d32ca3cecf4c8675ee'), 'name': 'Justin Garrett', 'age': 65, 'street': '37772 Kristin Mountain Suite 231', 'city': 'Danielleport', 'state': 'Michigan', 'zip': 10745, 'lng': -108.015689, 'lat': -35.4364325}\n",
      "{'_id': ObjectId('629108d32ca3cecf4c8675ef'), 'name': 'Jasmine Williams', 'age': 52, 'street': '389 Ramirez Terrace Apt. 351', 'city': 'Port Tiffanyton', 'state': 'Arkansas', 'zip': 5351, 'lng': 122.584334, 'lat': -59.356266}\n",
      "{'_id': ObjectId('629108d32ca3cecf4c8675f0'), 'name': 'John Smith', 'age': 79, 'street': '55137 Alice Viaduct', 'city': 'Geraldside', 'state': 'Tennessee', 'zip': 7426, 'lng': -59.858268, 'lat': 62.087841}\n",
      "{'_id': ObjectId('629108d32ca3cecf4c8675f1'), 'name': 'Jennifer Monroe', 'age': 35, 'street': '63078 Silva Knolls Suite 903', 'city': 'Campbellberg', 'state': 'Wyoming', 'zip': 10847, 'lng': 140.823846, 'lat': 60.3663405}\n",
      "{'_id': ObjectId('629108d32ca3cecf4c8675f2'), 'name': 'Martin Daugherty', 'age': 64, 'street': '12743 Robert View', 'city': 'West Michaelberg', 'state': 'Missouri', 'zip': 52724, 'lng': 72.27296, 'lat': -23.904604}\n",
      "{'_id': ObjectId('629108d32ca3cecf4c8675f3'), 'name': 'John Torres', 'age': 48, 'street': '2119 Steven Knolls Apt. 964', 'city': 'Leahfort', 'state': 'New Hampshire', 'zip': 61350, 'lng': -8.113626, 'lat': -32.0513395}\n",
      "{'_id': ObjectId('629108d32ca3cecf4c8675f4'), 'name': 'Jennifer Yates', 'age': 76, 'street': '7077 Montgomery Avenue Suite 333', 'city': 'Lake Jessicaport', 'state': 'New York', 'zip': 13832, 'lng': -53.010384, 'lat': -14.302181}\n",
      "{'_id': ObjectId('629108d32ca3cecf4c8675f5'), 'name': 'Courtney Garrett', 'age': 30, 'street': '9853 Galvan Land Suite 732', 'city': 'Michaelmouth', 'state': 'Connecticut', 'zip': 70205, 'lng': 59.850996, 'lat': -13.6579355}\n",
      "{'_id': ObjectId('629108d32ca3cecf4c8675f6'), 'name': 'James Daniels', 'age': 42, 'street': '33831 Fowler Mountains Apt. 046', 'city': 'Lake Courtneychester', 'state': 'California', 'zip': 75360, 'lng': 52.074701, 'lat': 63.6190495}\n"
     ]
    }
   ],
   "source": [
    "connection = MongoClient('mongo-db:27017', username='root',password='example')\n",
    "connection.list_database_names()\n",
    "db_conn = connection['de_hw1']\n",
    "collection_conn = db_conn.jsonData\n",
    "print(json_list[0])\n",
    "cursor = collection_conn.find().limit(10)\n",
    "for i in cursor:\n",
    "    print(i)"
   ]
  },
  {
   "cell_type": "markdown",
   "id": "2d139eaf-3ff0-4e6c-bb67-b1d884e46b56",
   "metadata": {},
   "source": [
    "### Airflow implementation"
   ]
  },
  {
   "cell_type": "code",
   "execution_count": null,
   "id": "764498f7-be8f-4ee9-9fb3-57daabf1a3eb",
   "metadata": {},
   "outputs": [],
   "source": [
    "from airflow import DAG\n",
    "from airflow.operators.python import PythonOperator\n",
    "from airflow.operators.bash import BashOperator\n",
    "from datetime import datetime,timedelta\n",
    "try:\n",
    "    import pandas as pd\n",
    "    import numpy as np\n",
    "    from faker import Faker\n",
    "    import csv\n",
    "    from sqlalchemy import create_engine\n",
    "    import psycopg2\n",
    "    from pymongo import MongoClient\n",
    "except:\n",
    "    !pip install pandas numpy faker sqlalchemy psycopg2-binary pymongo\n",
    "    import pandas as pd\n",
    "    import numpy as np\n",
    "    from faker import Faker\n",
    "    import csv\n",
    "    from sqlalchemy import create_engine\n",
    "    import psycopg2\n",
    "    from pymongo import MongoClient\n",
    "    \n",
    "default_args={\n",
    "    'owner': 'ibrahim',\n",
    "    'start_date': dt.datetime(2022, 5, 27),\n",
    "    'retries': 1,\n",
    "    'retry_delay': dt.timedelta(minutes=5),\n",
    "}\n",
    "\n",
    "def PSQL_to_DF():\n",
    "    host='ibrahim_postgres'\n",
    "    username='postgres'\n",
    "    password='password123'\n",
    "    database='deproject'\n",
    "    port='5432'\n",
    "    engine = create_engine(f'postgresql://{username}:{password}@{host}:{port}/{database}')\n",
    "    \n",
    "    df = pd.read_sql('SELECT * FROM data', engine)\n",
    "    \n",
    "    return df.copy()\n",
    "\n",
    "def CSV_to_JSON(df):\n",
    "    df = df.xcom_pull(task_id='Read_from_DB')\n",
    "    json_list = df.to_dict(orient='records')\n",
    "    return json_list.copy()\n",
    "\n",
    "def JSON_to_Mongo(data):\n",
    "    data = data.xcom_pull(task_id='Convert_to_Json')\n",
    "    client = MongoClient('mongo-db:27017', username='root',password='example')\n",
    "    db = client['de_hw1']\n",
    "    collection = db.jsonData\n",
    "    for i in range(0,len(data)):\n",
    "        try:\n",
    "            result = collection.insert_one(data[i])\n",
    "        except:\n",
    "            print(f'Error for reoord {i}')\n",
    "\n",
    "            \n",
    "with DAG('HW1_Q2',\n",
    "         default_args=default_args,\n",
    "         schedule_interval=timedelta(minutes=1),  \n",
    "         catchup=False,     \n",
    "         ) as dag:\n",
    "    starting_point = BashOperator(task_id='starting_point', bash_command='echo \"I am reading the CSV now.....\"')\n",
    "    psqlTOdf = PythonOperator(task_id='Read_from_DB',python_callable=PSQL_to_DF)\n",
    "    csvTOjson = PythonOperator(task_id='Convert_to_Json',python_callable=CSV_to_JSON)\n",
    "    jsonTOmongo = PythonOperator(task_id='Write_to_Mongo',python_callable=JSON_to_Mongo)\n",
    "    ending_point = BashOperator(task_id='ending_point', bash_command='echo \"I am done with this DAG ^_^\"')\n",
    "\n",
    "starting_point >> psqlTOdf >> csvTOjson >> jsonTOmongo >> ending_point"
   ]
  }
 ],
 "metadata": {
  "kernelspec": {
   "display_name": "Python 3 (ipykernel)",
   "language": "python",
   "name": "python3"
  },
  "language_info": {
   "codemirror_mode": {
    "name": "ipython",
    "version": 3
   },
   "file_extension": ".py",
   "mimetype": "text/x-python",
   "name": "python",
   "nbconvert_exporter": "python",
   "pygments_lexer": "ipython3",
   "version": "3.9.12"
  }
 },
 "nbformat": 4,
 "nbformat_minor": 5
}
