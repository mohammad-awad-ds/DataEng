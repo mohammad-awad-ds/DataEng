{
 "cells": [
  {
   "cell_type": "markdown",
   "id": "711253c0-9dc4-4134-82a9-9b8b33784f00",
   "metadata": {},
   "source": [
    "# Generating the data and push it to the SQL database"
   ]
  },
  {
   "cell_type": "markdown",
   "id": "4f0fe9f7-6a36-41c0-9197-dbb1440f8d59",
   "metadata": {},
   "source": [
    "### This notebook is used to generate the random data and push it to the postgres so that airflow workflow can fetch it, convert it to json and push to the mongo DB"
   ]
  },
  {
   "cell_type": "code",
   "execution_count": 1,
   "id": "33a5a393-9d04-43ec-8fa5-5753320dddc2",
   "metadata": {},
   "outputs": [
    {
     "name": "stdout",
     "output_type": "stream",
     "text": [
      "Collecting pandas\n",
      "  Using cached pandas-1.4.2-cp39-cp39-manylinux_2_17_x86_64.manylinux2014_x86_64.whl (11.7 MB)\n",
      "Collecting numpy\n",
      "  Using cached numpy-1.22.4-cp39-cp39-manylinux_2_17_x86_64.manylinux2014_x86_64.whl (16.8 MB)\n",
      "Collecting faker\n",
      "  Using cached Faker-13.12.0-py3-none-any.whl (1.6 MB)\n",
      "Requirement already satisfied: sqlalchemy in /opt/conda/lib/python3.9/site-packages (1.4.36)\n",
      "Collecting psycopg2-binary\n",
      "  Using cached psycopg2_binary-2.9.3-cp39-cp39-manylinux_2_17_x86_64.manylinux2014_x86_64.whl (3.0 MB)\n",
      "Collecting pymongo\n",
      "  Using cached pymongo-4.1.1-cp39-cp39-manylinux_2_17_x86_64.manylinux2014_x86_64.whl (471 kB)\n",
      "Requirement already satisfied: pytz>=2020.1 in /opt/conda/lib/python3.9/site-packages (from pandas) (2022.1)\n",
      "Requirement already satisfied: python-dateutil>=2.8.1 in /opt/conda/lib/python3.9/site-packages (from pandas) (2.8.2)\n",
      "Requirement already satisfied: greenlet!=0.4.17 in /opt/conda/lib/python3.9/site-packages (from sqlalchemy) (1.1.2)\n",
      "Requirement already satisfied: six>=1.5 in /opt/conda/lib/python3.9/site-packages (from python-dateutil>=2.8.1->pandas) (1.16.0)\n",
      "Installing collected packages: pymongo, psycopg2-binary, numpy, pandas, faker\n",
      "Successfully installed faker-13.12.0 numpy-1.22.4 pandas-1.4.2 psycopg2-binary-2.9.3 pymongo-4.1.1\n"
     ]
    }
   ],
   "source": [
    "try:\n",
    "    import pandas as pd\n",
    "    import numpy as np\n",
    "    from faker import Faker\n",
    "    import csv\n",
    "    from sqlalchemy import create_engine\n",
    "    import psycopg2\n",
    "except:\n",
    "    !pip install pandas numpy faker sqlalchemy psycopg2-binary pymongo\n",
    "    import pandas as pd\n",
    "    import numpy as np\n",
    "    from faker import Faker\n",
    "    import csv\n",
    "    from sqlalchemy import create_engine\n",
    "    import psycopg2"
   ]
  },
  {
   "cell_type": "markdown",
   "id": "8a5145e6-518a-4137-b515-b2f9831880fa",
   "metadata": {},
   "source": [
    "#### Generating the csv file"
   ]
  },
  {
   "cell_type": "code",
   "execution_count": 2,
   "id": "416a65cf-4eb1-4819-a3d2-a19c0135017c",
   "metadata": {},
   "outputs": [],
   "source": [
    "from faker import Faker\n",
    "import csv\n",
    "output=open('data.csv','w')\n",
    "fake=Faker()\n",
    "header=['name','age','street','city','state','zip','lng','lat']\n",
    "mywriter=csv.writer(output)\n",
    "mywriter.writerow(header)\n",
    "for r in range(1000):\n",
    "    row =[fake.name(),fake.random_int(min=18,max=80, step=1), \n",
    "                       fake.street_address(), fake.city(),fake.state(),\n",
    "                       fake.zipcode(),fake.longitude(),fake.latitude()]\n",
    "    #print(row)\n",
    "    mywriter.writerow(row)\n",
    "\n",
    "output.close()"
   ]
  },
  {
   "cell_type": "markdown",
   "id": "952620fc-3f6a-45ea-b419-9b3842ccaa42",
   "metadata": {},
   "source": [
    "#### Create the connection to the database\n",
    "Due to a bug in the libpq packages for Mac M1 laptops, a workaround is to run the containers with rosetta or on intel based Linux machine ref link: https://stackoverflow.com/questions/62807717/how-can-i-solve-postgresql-scram-authentifcation-problem"
   ]
  },
  {
   "cell_type": "code",
   "execution_count": 5,
   "id": "0fc727c2-088c-4945-b6cc-551d2cad0914",
   "metadata": {},
   "outputs": [
    {
     "name": "stdout",
     "output_type": "stream",
     "text": [
      "['data']\n"
     ]
    },
    {
     "name": "stderr",
     "output_type": "stream",
     "text": [
      "/tmp/ipykernel_75/1324543537.py:8: SADeprecationWarning: The Engine.table_names() method is deprecated and will be removed in a future release.  Please refer to Inspector.get_table_names(). (deprecated since: 1.4)\n",
      "  print(engine.table_names())\n"
     ]
    }
   ],
   "source": [
    "host='ibrahim_postgres'\n",
    "username='admin'\n",
    "password='admin'\n",
    "database='deproject'\n",
    "port='5432'\n",
    "\n",
    "engine = create_engine(f'postgresql://{username}:{password}@{host}:{port}/{database}')\n",
    "print(engine.table_names())"
   ]
  },
  {
   "cell_type": "markdown",
   "id": "82c95b77-6966-4462-aee5-542b5eae651e",
   "metadata": {},
   "source": [
    "#### Send the csv data to the postgres database"
   ]
  },
  {
   "cell_type": "code",
   "execution_count": 1,
   "id": "38df79d8-f67d-419d-bc39-d240e4a2dd60",
   "metadata": {},
   "outputs": [
    {
     "ename": "NameError",
     "evalue": "name 'pd' is not defined",
     "output_type": "error",
     "traceback": [
      "\u001b[1;31m---------------------------------------------------------------------------\u001b[0m",
      "\u001b[1;31mNameError\u001b[0m                                 Traceback (most recent call last)",
      "\u001b[1;32mc:\\Users\\M\\Desktop\\HW\\Q2\\notebooks\\hw1_q2_dataPrep.ipynb Cell 9'\u001b[0m in \u001b[0;36m<cell line: 1>\u001b[1;34m()\u001b[0m\n\u001b[1;32m----> <a href='vscode-notebook-cell:/c%3A/Users/M/Desktop/HW/Q2/notebooks/hw1_q2_dataPrep.ipynb#ch0000008?line=0'>1</a>\u001b[0m df \u001b[39m=\u001b[39m pd\u001b[39m.\u001b[39mread_csv(\u001b[39m'\u001b[39m\u001b[39m./data.csv\u001b[39m\u001b[39m'\u001b[39m)\n\u001b[0;32m      <a href='vscode-notebook-cell:/c%3A/Users/M/Desktop/HW/Q2/notebooks/hw1_q2_dataPrep.ipynb#ch0000008?line=1'>2</a>\u001b[0m df\u001b[39m.\u001b[39mhead()\n",
      "\u001b[1;31mNameError\u001b[0m: name 'pd' is not defined"
     ]
    }
   ],
   "source": [
    "df = pd.read_csv('./data.csv')\n",
    "df.head()"
   ]
  },
  {
   "cell_type": "code",
   "execution_count": 8,
   "id": "6f305cc3-00b7-4893-b836-1c027dbd7f51",
   "metadata": {},
   "outputs": [
    {
     "data": {
      "text/plain": [
       "1000"
      ]
     },
     "execution_count": 8,
     "metadata": {},
     "output_type": "execute_result"
    }
   ],
   "source": [
    "df.to_sql('data',engine, if_exists='replace', index=False)"
   ]
  },
  {
   "cell_type": "code",
   "execution_count": null,
   "id": "35255538-881d-440b-813d-2accb900a709",
   "metadata": {},
   "outputs": [],
   "source": []
  }
 ],
 "metadata": {
  "interpreter": {
   "hash": "88279d2366fe020547cde40dd65aa0e3aa662a6ec1f3ca12d88834876c85e1a6"
  },
  "kernelspec": {
   "display_name": "Python 3.8.8 ('base')",
   "language": "python",
   "name": "python3"
  },
  "language_info": {
   "codemirror_mode": {
    "name": "ipython",
    "version": 3
   },
   "file_extension": ".py",
   "mimetype": "text/x-python",
   "name": "python",
   "nbconvert_exporter": "python",
   "pygments_lexer": "ipython3",
   "version": "3.8.8"
  }
 },
 "nbformat": 4,
 "nbformat_minor": 5
}
